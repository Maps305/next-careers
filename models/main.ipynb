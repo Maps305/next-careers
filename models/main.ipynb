{
 "cells": [
  {
   "cell_type": "markdown",
   "metadata": {},
   "source": [
    "## Career Recommendation Model Using Deep Learning."
   ]
  },
  {
   "cell_type": "markdown",
   "metadata": {},
   "source": [
    "a career recommendation model that uses both content based and collaborative filtering to make its recommendations\n",
    "the model takes in a user profile and does collaborative filtering to find careers that the user has high probability of success in and passes that career path to the content based filter to find other paths that are similar to that one. the final output is the three career 1 from collaborative filtering and the other two from content based filtering."
   ]
  },
  {
   "cell_type": "code",
   "execution_count": 1,
   "metadata": {},
   "outputs": [],
   "source": [
    "# necessary libraries\n",
    "import pandas as pd\n",
    "import numpy as np\n",
    "import pickle\n",
    "from sklearn.feature_extraction.text import TfidfVectorizer\n",
    "from sklearn.metrics.pairwise import linear_kernel"
   ]
  },
  {
   "cell_type": "code",
   "execution_count": 2,
   "metadata": {},
   "outputs": [
    {
     "data": {
      "text/html": [
       "<div>\n",
       "<style scoped>\n",
       "    .dataframe tbody tr th:only-of-type {\n",
       "        vertical-align: middle;\n",
       "    }\n",
       "\n",
       "    .dataframe tbody tr th {\n",
       "        vertical-align: top;\n",
       "    }\n",
       "\n",
       "    .dataframe thead th {\n",
       "        text-align: right;\n",
       "    }\n",
       "</style>\n",
       "<table border=\"1\" class=\"dataframe\">\n",
       "  <thead>\n",
       "    <tr style=\"text-align: right;\">\n",
       "      <th></th>\n",
       "      <th>Employee Id</th>\n",
       "      <th>Employee Name</th>\n",
       "      <th>Department</th>\n",
       "      <th>Position</th>\n",
       "      <th>Experience</th>\n",
       "      <th>Performance</th>\n",
       "      <th>Education</th>\n",
       "      <th>Certification</th>\n",
       "      <th>Manager's Feedback</th>\n",
       "      <th>Eligibility</th>\n",
       "    </tr>\n",
       "  </thead>\n",
       "  <tbody>\n",
       "    <tr>\n",
       "      <th>0</th>\n",
       "      <td>101</td>\n",
       "      <td>Michael Miller</td>\n",
       "      <td>IT</td>\n",
       "      <td>Employee</td>\n",
       "      <td>5</td>\n",
       "      <td>Excellent</td>\n",
       "      <td>MSC</td>\n",
       "      <td>3</td>\n",
       "      <td>Excellent</td>\n",
       "      <td>1</td>\n",
       "    </tr>\n",
       "    <tr>\n",
       "      <th>1</th>\n",
       "      <td>102</td>\n",
       "      <td>Carl Fox</td>\n",
       "      <td>Production</td>\n",
       "      <td>HR Assistant</td>\n",
       "      <td>9</td>\n",
       "      <td>Low</td>\n",
       "      <td>IT</td>\n",
       "      <td>6</td>\n",
       "      <td>Adaptive</td>\n",
       "      <td>0</td>\n",
       "    </tr>\n",
       "    <tr>\n",
       "      <th>2</th>\n",
       "      <td>103</td>\n",
       "      <td>Robert Johnson</td>\n",
       "      <td>Marketing</td>\n",
       "      <td>Senior Manager</td>\n",
       "      <td>3</td>\n",
       "      <td>Low</td>\n",
       "      <td>MSC</td>\n",
       "      <td>2</td>\n",
       "      <td>Moderate</td>\n",
       "      <td>0</td>\n",
       "    </tr>\n",
       "    <tr>\n",
       "      <th>3</th>\n",
       "      <td>104</td>\n",
       "      <td>Raymond Zimmerman</td>\n",
       "      <td>IT</td>\n",
       "      <td>Supervisor</td>\n",
       "      <td>7</td>\n",
       "      <td>Low</td>\n",
       "      <td>MSC</td>\n",
       "      <td>10</td>\n",
       "      <td>Not Flexible</td>\n",
       "      <td>0</td>\n",
       "    </tr>\n",
       "    <tr>\n",
       "      <th>4</th>\n",
       "      <td>105</td>\n",
       "      <td>Christopher Riddle</td>\n",
       "      <td>Accounts</td>\n",
       "      <td>HR Assistant</td>\n",
       "      <td>5</td>\n",
       "      <td>Average</td>\n",
       "      <td>MSC</td>\n",
       "      <td>10</td>\n",
       "      <td>Extraordinary</td>\n",
       "      <td>1</td>\n",
       "    </tr>\n",
       "  </tbody>\n",
       "</table>\n",
       "</div>"
      ],
      "text/plain": [
       "   Employee Id       Employee Name  Department        Position  Experience  \\\n",
       "0          101      Michael Miller          IT        Employee           5   \n",
       "1          102            Carl Fox  Production    HR Assistant           9   \n",
       "2          103      Robert Johnson   Marketing  Senior Manager           3   \n",
       "3          104   Raymond Zimmerman          IT      Supervisor           7   \n",
       "4          105  Christopher Riddle    Accounts    HR Assistant           5   \n",
       "\n",
       "  Performance Education  Certification Manager's Feedback  Eligibility  \n",
       "0   Excellent       MSC              3          Excellent            1  \n",
       "1         Low        IT              6           Adaptive            0  \n",
       "2         Low       MSC              2           Moderate            0  \n",
       "3         Low       MSC             10       Not Flexible            0  \n",
       "4     Average       MSC             10      Extraordinary            1  "
      ]
     },
     "execution_count": 2,
     "metadata": {},
     "output_type": "execute_result"
    }
   ],
   "source": [
    "df_coll = pd.read_excel(\"collaborative_filtering.xlsx\")\n",
    "df_coll.head()"
   ]
  },
  {
   "cell_type": "code",
   "execution_count": 3,
   "metadata": {},
   "outputs": [
    {
     "data": {
      "text/plain": [
       "Position\n",
       "HR Assistant       87\n",
       "HR Manager         78\n",
       "General Manager    75\n",
       "Supervisor         66\n",
       "Senior Manager     65\n",
       "Team Leader        65\n",
       "Employee           64\n",
       "Name: count, dtype: int64"
      ]
     },
     "execution_count": 3,
     "metadata": {},
     "output_type": "execute_result"
    }
   ],
   "source": [
    "df_coll.Position.value_counts()"
   ]
  },
  {
   "cell_type": "markdown",
   "metadata": {},
   "source": [
    "## Collaborative Filtering"
   ]
  },
  {
   "cell_type": "code",
   "execution_count": null,
   "metadata": {},
   "outputs": [],
   "source": []
  },
  {
   "cell_type": "markdown",
   "metadata": {},
   "source": [
    "## Content based Filtering"
   ]
  },
  {
   "cell_type": "code",
   "execution_count": 4,
   "metadata": {},
   "outputs": [
    {
     "name": "stdout",
     "output_type": "stream",
     "text": [
      "['mathematics', 'english']\n"
     ]
    }
   ],
   "source": [
    "content_data = pd.read_csv(\"career_paths.csv\")\n",
    "\n",
    "# combining interests and skills\n",
    "content_data['combined_features'] = content_data['Interest'] + ' ' + content_data['Skills']\n",
    "\n",
    "# TF-IDF Vectorisation\n",
    "vectorizer = TfidfVectorizer()\n",
    "tfidf_matrix = vectorizer.fit_transform(content_data['combined_features'])\n",
    "\n",
    "# Calculating similarity scores\n",
    "content_similarity_matrix = linear_kernel(tfidf_matrix, tfidf_matrix)\n",
    "\n",
    "# function to get content based recommendations\n",
    "def content_based_recommendation(user_profile, content_similarity_matrix, num_recommendations=2):\n",
    "    user_vector = vectorizer.transform([user_profile])\n",
    "    scores = linear_kernel(user_vector, tfidf_matrix).flatten()\n",
    "\n",
    "    # finding indices of top similarity scores\n",
    "    top_field_indices = scores.argsort()[-num_recommendations:][::-1]\n",
    "    recommended_fields = content_data['Field'].iloc[top_field_indices].to_list()\n",
    "\n",
    "    return recommended_fields\n",
    "\n",
    "\n",
    "interests = input(\"enter interests: \")\n",
    "skills = input(\"enter skills: \")\n",
    "additional_info = input(\"Enter additional info: \")\n",
    "\n",
    "user_profile = f\"{interests} {skills} {additional_info}\"\n",
    "recommended_fields = content_based_recommendation(user_profile, content_similarity_matrix)\n",
    "print(recommended_fields)"
   ]
  },
  {
   "cell_type": "code",
   "execution_count": 5,
   "metadata": {},
   "outputs": [],
   "source": [
    "# loading pickle\n",
    "with open('vectorizer.pickle', 'wb') as f:\n",
    "    pickle.dump(vectorizer, f)\n",
    "\n",
    "\n",
    "with open('similarity_matrix.pickle', 'wb') as f:\n",
    "    pickle.dump(content_similarity_matrix, f)\n",
    "\n",
    "\n",
    "import cloudpickle\n",
    "\n",
    "# Use cloudpickle since linear_kernel might not be picklable directly\n",
    "with open('recommendation_function.pickle', 'wb') as f:\n",
    "    cloudpickle.dump(content_based_recommendation, f)\n"
   ]
  }
 ],
 "metadata": {
  "kernelspec": {
   "display_name": "base",
   "language": "python",
   "name": "python3"
  },
  "language_info": {
   "codemirror_mode": {
    "name": "ipython",
    "version": 3
   },
   "file_extension": ".py",
   "mimetype": "text/x-python",
   "name": "python",
   "nbconvert_exporter": "python",
   "pygments_lexer": "ipython3",
   "version": "3.11.5"
  }
 },
 "nbformat": 4,
 "nbformat_minor": 2
}
