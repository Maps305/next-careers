{
 "cells": [
  {
   "cell_type": "markdown",
   "metadata": {},
   "source": [
    "## Career Recommendation Model Using Deep Learning."
   ]
  },
  {
   "cell_type": "markdown",
   "metadata": {},
   "source": [
    "a career recommendation model that uses both content based and collaborative filtering to make its recommendations\n",
    "the model takes in a user profile and does collaborative filtering to find careers that the user has high probability of success in and passes that career path to the content based filter to find other paths that are similar to that one. the final output is the three career 1 from collaborative filtering and the other two from content based filtering."
   ]
  },
  {
   "cell_type": "code",
   "execution_count": 7,
   "metadata": {},
   "outputs": [],
   "source": [
    "# necessary libraries\n",
    "import pandas as pd\n",
    "import numpy as np\n",
    "import pickle\n",
    "from sklearn.feature_extraction.text import TfidfVectorizer\n",
    "from sklearn.metrics.pairwise import linear_kernel"
   ]
  },
  {
   "cell_type": "markdown",
   "metadata": {},
   "source": [
    "## Exploratory Data Analysis"
   ]
  },
  {
   "cell_type": "code",
   "execution_count": null,
   "metadata": {},
   "outputs": [],
   "source": []
  },
  {
   "cell_type": "markdown",
   "metadata": {},
   "source": [
    "## Collaborative Filtering"
   ]
  },
  {
   "cell_type": "code",
   "execution_count": null,
   "metadata": {},
   "outputs": [],
   "source": []
  },
  {
   "cell_type": "markdown",
   "metadata": {},
   "source": [
    "## Content based Filtering"
   ]
  },
  {
   "cell_type": "code",
   "execution_count": 27,
   "metadata": {},
   "outputs": [],
   "source": [
    "content_data = pd.read_csv(\"career_paths.csv\")\n",
    "\n",
    "# combining interests and skills\n",
    "content_data['combined_features'] = content_data['Interest'] + ' ' + content_data['Skills']\n",
    "\n",
    "# TF-IDF Vectorisation\n",
    "vectorizer = TfidfVectorizer()\n",
    "\n",
    "tfidf_matrix = vectorizer.fit_transform(content_data['combined_features'])\n",
    "\n",
    "# Calculating similarity scores\n",
    "content_similarity_matrix = linear_kernel(tfidf_matrix, tfidf_matrix)"
   ]
  },
  {
   "cell_type": "code",
   "execution_count": 36,
   "metadata": {},
   "outputs": [],
   "source": [
    "# function to get content based recommendations\n",
    "def content_based_recommendation(user_profile, content_similarity_matrix, num_recommendations=2):\n",
    "    print('starting function')\n",
    "    user_vector = vectorizer.transform([user_profile])\n",
    "    print(f'user vector: {user_vector}')\n",
    "    scores = linear_kernel(user_vector, tfidf_matrix).flatten()\n",
    "    print(f'scores: {scores}')\n",
    "    # finding indices of top similarity scores\n",
    "    top_field_indices = scores.argsort()[-num_recommendations:][::-1]\n",
    "    recommended_fields = content_data['Field'].iloc[top_field_indices].to_list()\n",
    "    print(f'recommended fields: {recommended_fields}')\n",
    "\n",
    "    return recommended_fields"
   ]
  },
  {
   "cell_type": "code",
   "execution_count": 37,
   "metadata": {},
   "outputs": [],
   "source": [
    "# loading pickle\n",
    "with open('vectorizer.pickle', 'wb') as f:\n",
    "    pickle.dump(vectorizer, f)\n",
    "\n",
    "\n",
    "with open('similarity_matrix.pickle', 'wb') as f:\n",
    "    pickle.dump(content_similarity_matrix, f)\n",
    "\n",
    "\n",
    "import cloudpickle\n",
    "\n",
    "# Use cloudpickle since linear_kernel might not be picklable directly\n",
    "with open('recommendation_function.pickle', 'wb') as f:\n",
    "    cloudpickle.dump(content_based_recommendation, f)\n"
   ]
  }
 ],
 "metadata": {
  "kernelspec": {
   "display_name": "base",
   "language": "python",
   "name": "python3"
  },
  "language_info": {
   "codemirror_mode": {
    "name": "ipython",
    "version": 3
   },
   "file_extension": ".py",
   "mimetype": "text/x-python",
   "name": "python",
   "nbconvert_exporter": "python",
   "pygments_lexer": "ipython3",
   "version": "0.0.0"
  }
 },
 "nbformat": 4,
 "nbformat_minor": 2
}
